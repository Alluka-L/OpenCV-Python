{
 "cells": [
  {
   "cell_type": "code",
   "execution_count": 1,
   "metadata": {},
   "outputs": [],
   "source": [
    "import cv2\n",
    "import numpy as np\n",
    "from PIL import Image"
   ]
  },
  {
   "cell_type": "code",
   "execution_count": 2,
   "metadata": {},
   "outputs": [],
   "source": [
    "img = cv2.imread('./data/supra.jpeg')\n",
    "img_origin = img.copy()\n",
    "img = img.astype(np.float32) / 255."
   ]
  },
  {
   "cell_type": "code",
   "execution_count": 46,
   "metadata": {},
   "outputs": [
    {
     "name": "stderr",
     "output_type": "stream",
     "text": [
      "/Users/Lxy/opt/anaconda3/envs/stable/lib/python3.7/site-packages/ipykernel_launcher.py:13: RuntimeWarning: invalid value encountered in true_divide\n",
      "  del sys.path[0]\n"
     ]
    }
   ],
   "source": [
    "# RGB > HSV\n",
    "out = np.zeros_like(img)\n",
    "\n",
    "max_v = np.max(img, axis=2).copy()\n",
    "min_v = np.min(img, axis=2).copy()\n",
    "min_arg = np.argmin(img, axis=2)\n",
    "\n",
    "H = np.zeros_like(max_v)\n",
    "\n",
    "H[np.where(max_v == min_v)] = 0\n",
    "# if min == B\n",
    "ind = np.where(min_arg == 0)\n",
    "H[ind] = 60 * (img[..., 1][ind] - img[..., 2][ind]) / (max_v[ind] - min_v[ind]) + 60\n",
    "# if min == R\n",
    "ind = np.where(min_arg == 2)\n",
    "H[ind] = 60 * (img[..., 0][ind] - img[..., 1][ind]) / (max_v[ind] - min_v[ind]) + 180\n",
    "# if min == G\n",
    "ind = np.where(min_arg == 1)\n",
    "H[ind] = 60 * (img[..., 2][ind] - img[..., 0][ind]) / (max_v[ind] - min_v[ind]) + 300\n",
    "\n",
    "V = max_v.copy()\n",
    "S = max_v.copy() - min_v.copy()"
   ]
  },
  {
   "cell_type": "code",
   "execution_count": 49,
   "metadata": {},
   "outputs": [],
   "source": [
    "# Transpose Hue\n",
    "H = (H + 180) % 360"
   ]
  },
  {
   "cell_type": "code",
   "execution_count": 52,
   "metadata": {},
   "outputs": [
    {
     "name": "stderr",
     "output_type": "stream",
     "text": [
      "/Users/Lxy/opt/anaconda3/envs/stable/lib/python3.7/site-packages/ipykernel_launcher.py:11: RuntimeWarning: invalid value encountered in greater_equal\n",
      "  # This is added back by InteractiveShellApp.init_path()\n",
      "/Users/Lxy/opt/anaconda3/envs/stable/lib/python3.7/site-packages/ipykernel_launcher.py:11: RuntimeWarning: invalid value encountered in less\n",
      "  # This is added back by InteractiveShellApp.init_path()\n"
     ]
    }
   ],
   "source": [
    "# HSV -> RGB\n",
    "\n",
    "C = S\n",
    "H_ = H // 60\n",
    "X = C * (1 - np.abs( H_ % 2 - 1))\n",
    "Z = np.zeros_like(H)\n",
    "\n",
    "vals = [[Z,X,C], [Z,C,X], [X,C,Z], [C,X,Z], [C,Z,X], [X,Z,C]]\n",
    "\n",
    "for i in range(6):\n",
    "    ind = np.where((i <= H_) & (H_ < (i+1)))\n",
    "    out[..., 0][ind] = (V-C)[ind] + vals[i][0][ind]\n",
    "    out[..., 1][ind] = (V-C)[ind] + vals[i][1][ind]\n",
    "    out[..., 2][ind] = (V-C)[ind] + vals[i][2][ind]\n",
    "\n",
    "out[np.where(max_v == min_v)] = 0\n",
    "out = (out * 255).astype(np.uint8)"
   ]
  }
 ],
 "metadata": {
  "kernelspec": {
   "display_name": "Python 3",
   "language": "python",
   "name": "python3"
  },
  "language_info": {
   "codemirror_mode": {
    "name": "ipython",
    "version": 3
   },
   "file_extension": ".py",
   "mimetype": "text/x-python",
   "name": "python",
   "nbconvert_exporter": "python",
   "pygments_lexer": "ipython3",
   "version": "3.7.5"
  },
  "toc": {
   "base_numbering": 1,
   "nav_menu": {},
   "number_sections": true,
   "sideBar": true,
   "skip_h1_title": true,
   "title_cell": "Table of Contents",
   "title_sidebar": "Contents",
   "toc_cell": false,
   "toc_position": {},
   "toc_section_display": true,
   "toc_window_display": false
  }
 },
 "nbformat": 4,
 "nbformat_minor": 2
}
